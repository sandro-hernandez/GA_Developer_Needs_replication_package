{
 "cells": [
  {
   "cell_type": "markdown",
   "metadata": {},
   "source": [
    "# Taxonomy"
   ]
  },
  {
   "cell_type": "markdown",
   "metadata": {},
   "source": [
    "## Dataset preparation"
   ]
  },
  {
   "cell_type": "markdown",
   "metadata": {},
   "source": [
    "There are three subsets of data. They correspond to filter by title, body, and tags. \n",
    "1. posts_by_title: Posts containing \"Github Actions\" or its variants in the question title (github actions, github-action, Github actions, Github-actions, Github Actions, Github-Actions).\n",
    "2. posts_by_body: Posts containing \"Github Actions\" or its variants in the question body.\n",
    "3. posts_by_tags: Posts tagged with any of of github actions tag list ('github-actions', 'building-github-actions', 'github-actions-self-hosted-runners', 'github-actions-runners', 'github-actions-services', 'github-actions-artifacts', 'github-actions-reusable-workflows', 'github-actions-workflows', 'github-actions-marketplace')"
   ]
  },
  {
   "cell_type": "code",
   "execution_count": 25,
   "metadata": {
    "ExecuteTime": {
     "end_time": "2024-02-19T17:33:57.111764700Z",
     "start_time": "2024-02-19T17:33:57.072760Z"
    }
   },
   "outputs": [],
   "source": [
    "import pandas as pd\n",
    "import numpy as np"
   ]
  },
  {
   "cell_type": "code",
   "execution_count": 26,
   "metadata": {
    "ExecuteTime": {
     "end_time": "2024-02-19T17:33:59.585371Z",
     "start_time": "2024-02-19T17:33:57.117757300Z"
    }
   },
   "outputs": [],
   "source": [
    "posts_by_title = pd.read_json('data/posts_by_title.json')\n",
    "posts_by_body = pd.read_json('data/posts_by_body.json')\n",
    "posts_by_tags = pd.read_json('data/posts_by_tags.json')\n",
    "posts_by_title.rename(columns={\"CONCAT('https://stackoverflow.com/q/', p.Id)\": 'link'}, inplace=True)\n",
    "posts_by_body.rename(columns={\"CONCAT('https://stackoverflow.com/q/', p.Id)\": 'link'}, inplace=True)\n",
    "posts_by_tags.rename(columns={\"CONCAT('https://stackoverflow.com/q/', p.Id)\": 'link'}, inplace=True)"
   ]
  },
  {
   "cell_type": "code",
   "execution_count": 27,
   "metadata": {
    "ExecuteTime": {
     "end_time": "2024-02-19T17:33:59.603369100Z",
     "start_time": "2024-02-19T17:33:59.587380600Z"
    }
   },
   "outputs": [],
   "source": [
    "posts_by_body = posts_by_body[posts_by_body['post_type_id']==1] # Keeping only post bodies that correspond to question bodies\n",
    "# posts_by_tags.drop(columns=['DeletionDate', 'OwnerDisplayName', 'LastEditorDisplayName', 'FavoriteCount', 'ClosedDate', 'CommunityOwnedDate'], inplace=True);"
   ]
  },
  {
   "cell_type": "code",
   "execution_count": 28,
   "metadata": {
    "ExecuteTime": {
     "end_time": "2024-02-19T17:33:59.620358900Z",
     "start_time": "2024-02-19T17:33:59.600362100Z"
    }
   },
   "outputs": [],
   "source": [
    "# posts_by_tags.rename(columns={'Id':'id', 'PostTypeId':'post_type_id', 'AcceptedAnswerId': 'accepted_answer_id', 'ParentId': 'parent_id', 'CreationDate':'creation_date',\n",
    "#                                 'Score':'score', 'ViewCount':'view_count', 'Body':'post_body', 'OwnerUserId':'owner_user_id', 'LastEditorUserId':'last_editor_user_id',\n",
    "#                                 'LastEditDate':'last_edit_date', 'LastActivityDate':'last_activity_date', 'Title':'post_title', 'Tags':'tags', 'AnswerCount':'answer_count',\n",
    "#                                 'CommentCount':'comment_count', 'ContentLicense':'content_license', 'Unnamed: 23':'link'}, inplace=True)\n"
   ]
  },
  {
   "cell_type": "code",
   "execution_count": 29,
   "metadata": {
    "ExecuteTime": {
     "end_time": "2024-02-19T17:33:59.670366600Z",
     "start_time": "2024-02-19T17:33:59.616361900Z"
    }
   },
   "outputs": [
    {
     "data": {
      "text/plain": "                 id  post_type_id  accepted_answer_id  parent_id        score  \\\ncount  9.873000e+03        9873.0        3.670000e+03        0.0  9873.000000   \nmean   7.126080e+07           1.0        7.022708e+07        NaN     2.747392   \nstd    5.184317e+06           0.0        5.424942e+06        NaN    11.666862   \nmin    5.417676e+07           1.0        5.417763e+07        NaN    -6.000000   \n25%    6.796411e+07           1.0        6.622763e+07        NaN     0.000000   \n50%    7.263306e+07           1.0        7.129186e+07        NaN     1.000000   \n75%    7.562319e+07           1.0        7.493441e+07        NaN     2.000000   \nmax    7.759369e+07           1.0        7.758567e+07        NaN   348.000000   \n\n          view_count  owner_user_id  last_editor_user_id  answer_count  \\\ncount    9873.000000   9.801000e+03         4.271000e+03   9873.000000   \nmean     2217.544718   8.707827e+06         6.605726e+06      0.981363   \nstd      8988.151347   6.554179e+06         6.039375e+06      1.119418   \nmin         5.000000   9.100000e+01        -1.000000e+00      0.000000   \n25%       136.000000   2.628868e+06         1.623876e+06      0.000000   \n50%       459.000000   7.764329e+06         4.290962e+06      1.000000   \n75%      1385.000000   1.383621e+07         1.023495e+07      1.000000   \nmax    321529.000000   2.302257e+07         2.296569e+07     35.000000   \n\n       comment_count  \ncount    9873.000000  \nmean        1.657753  \nstd         2.394376  \nmin         0.000000  \n25%         0.000000  \n50%         1.000000  \n75%         2.000000  \nmax        26.000000  ",
      "text/html": "<div>\n<style scoped>\n    .dataframe tbody tr th:only-of-type {\n        vertical-align: middle;\n    }\n\n    .dataframe tbody tr th {\n        vertical-align: top;\n    }\n\n    .dataframe thead th {\n        text-align: right;\n    }\n</style>\n<table border=\"1\" class=\"dataframe\">\n  <thead>\n    <tr style=\"text-align: right;\">\n      <th></th>\n      <th>id</th>\n      <th>post_type_id</th>\n      <th>accepted_answer_id</th>\n      <th>parent_id</th>\n      <th>score</th>\n      <th>view_count</th>\n      <th>owner_user_id</th>\n      <th>last_editor_user_id</th>\n      <th>answer_count</th>\n      <th>comment_count</th>\n    </tr>\n  </thead>\n  <tbody>\n    <tr>\n      <th>count</th>\n      <td>9.873000e+03</td>\n      <td>9873.0</td>\n      <td>3.670000e+03</td>\n      <td>0.0</td>\n      <td>9873.000000</td>\n      <td>9873.000000</td>\n      <td>9.801000e+03</td>\n      <td>4.271000e+03</td>\n      <td>9873.000000</td>\n      <td>9873.000000</td>\n    </tr>\n    <tr>\n      <th>mean</th>\n      <td>7.126080e+07</td>\n      <td>1.0</td>\n      <td>7.022708e+07</td>\n      <td>NaN</td>\n      <td>2.747392</td>\n      <td>2217.544718</td>\n      <td>8.707827e+06</td>\n      <td>6.605726e+06</td>\n      <td>0.981363</td>\n      <td>1.657753</td>\n    </tr>\n    <tr>\n      <th>std</th>\n      <td>5.184317e+06</td>\n      <td>0.0</td>\n      <td>5.424942e+06</td>\n      <td>NaN</td>\n      <td>11.666862</td>\n      <td>8988.151347</td>\n      <td>6.554179e+06</td>\n      <td>6.039375e+06</td>\n      <td>1.119418</td>\n      <td>2.394376</td>\n    </tr>\n    <tr>\n      <th>min</th>\n      <td>5.417676e+07</td>\n      <td>1.0</td>\n      <td>5.417763e+07</td>\n      <td>NaN</td>\n      <td>-6.000000</td>\n      <td>5.000000</td>\n      <td>9.100000e+01</td>\n      <td>-1.000000e+00</td>\n      <td>0.000000</td>\n      <td>0.000000</td>\n    </tr>\n    <tr>\n      <th>25%</th>\n      <td>6.796411e+07</td>\n      <td>1.0</td>\n      <td>6.622763e+07</td>\n      <td>NaN</td>\n      <td>0.000000</td>\n      <td>136.000000</td>\n      <td>2.628868e+06</td>\n      <td>1.623876e+06</td>\n      <td>0.000000</td>\n      <td>0.000000</td>\n    </tr>\n    <tr>\n      <th>50%</th>\n      <td>7.263306e+07</td>\n      <td>1.0</td>\n      <td>7.129186e+07</td>\n      <td>NaN</td>\n      <td>1.000000</td>\n      <td>459.000000</td>\n      <td>7.764329e+06</td>\n      <td>4.290962e+06</td>\n      <td>1.000000</td>\n      <td>1.000000</td>\n    </tr>\n    <tr>\n      <th>75%</th>\n      <td>7.562319e+07</td>\n      <td>1.0</td>\n      <td>7.493441e+07</td>\n      <td>NaN</td>\n      <td>2.000000</td>\n      <td>1385.000000</td>\n      <td>1.383621e+07</td>\n      <td>1.023495e+07</td>\n      <td>1.000000</td>\n      <td>2.000000</td>\n    </tr>\n    <tr>\n      <th>max</th>\n      <td>7.759369e+07</td>\n      <td>1.0</td>\n      <td>7.758567e+07</td>\n      <td>NaN</td>\n      <td>348.000000</td>\n      <td>321529.000000</td>\n      <td>2.302257e+07</td>\n      <td>2.296569e+07</td>\n      <td>35.000000</td>\n      <td>26.000000</td>\n    </tr>\n  </tbody>\n</table>\n</div>"
     },
     "execution_count": 29,
     "metadata": {},
     "output_type": "execute_result"
    }
   ],
   "source": [
    "posts_by_tags.describe()\n",
    "#posts_by_title.describe()\n",
    "# posts_by_body.describe()"
   ]
  },
  {
   "cell_type": "code",
   "execution_count": 30,
   "metadata": {
    "ExecuteTime": {
     "end_time": "2024-02-19T17:33:59.874364900Z",
     "start_time": "2024-02-19T17:33:59.662362900Z"
    }
   },
   "outputs": [
    {
     "data": {
      "text/plain": "                 id  post_type_id  accepted_answer_id  parent_id  \\\ncount  1.132300e+04       11323.0        4.140000e+03        0.0   \nmean   7.133022e+07           1.0        7.028556e+07        NaN   \nstd    5.145350e+06           0.0        5.374074e+06        NaN   \nmin    5.417676e+07           1.0        5.417763e+07        NaN   \n25%    6.805283e+07           1.0        6.637378e+07        NaN   \n50%    7.267653e+07           1.0        7.129904e+07        NaN   \n75%    7.565271e+07           1.0        7.495300e+07        NaN   \nmax    7.759369e+07           1.0        7.758567e+07        NaN   \n\n              score     view_count  owner_user_id  last_editor_user_id  \\\ncount  11323.000000   11323.000000   1.124500e+04         4.915000e+03   \nmean       2.563543    2062.098296   8.737486e+06         6.706649e+06   \nstd       11.054158    8502.726944   6.573781e+06         6.117352e+06   \nmin       -6.000000       5.000000   9.100000e+01        -1.000000e+00   \n25%        0.000000     132.000000   2.628868e+06         1.611459e+06   \n50%        1.000000     438.000000   7.793017e+06         4.420967e+06   \n75%        2.000000    1299.000000   1.391782e+07         1.060695e+07   \nmax      348.000000  321529.000000   2.302257e+07         2.296569e+07   \n\n       answer_count  comment_count  \ncount  11323.000000   11323.000000  \nmean       0.963967       1.648238  \nstd        1.085275       2.396634  \nmin        0.000000       0.000000  \n25%        0.000000       0.000000  \n50%        1.000000       1.000000  \n75%        1.000000       2.000000  \nmax       35.000000      26.000000  ",
      "text/html": "<div>\n<style scoped>\n    .dataframe tbody tr th:only-of-type {\n        vertical-align: middle;\n    }\n\n    .dataframe tbody tr th {\n        vertical-align: top;\n    }\n\n    .dataframe thead th {\n        text-align: right;\n    }\n</style>\n<table border=\"1\" class=\"dataframe\">\n  <thead>\n    <tr style=\"text-align: right;\">\n      <th></th>\n      <th>id</th>\n      <th>post_type_id</th>\n      <th>accepted_answer_id</th>\n      <th>parent_id</th>\n      <th>score</th>\n      <th>view_count</th>\n      <th>owner_user_id</th>\n      <th>last_editor_user_id</th>\n      <th>answer_count</th>\n      <th>comment_count</th>\n    </tr>\n  </thead>\n  <tbody>\n    <tr>\n      <th>count</th>\n      <td>1.132300e+04</td>\n      <td>11323.0</td>\n      <td>4.140000e+03</td>\n      <td>0.0</td>\n      <td>11323.000000</td>\n      <td>11323.000000</td>\n      <td>1.124500e+04</td>\n      <td>4.915000e+03</td>\n      <td>11323.000000</td>\n      <td>11323.000000</td>\n    </tr>\n    <tr>\n      <th>mean</th>\n      <td>7.133022e+07</td>\n      <td>1.0</td>\n      <td>7.028556e+07</td>\n      <td>NaN</td>\n      <td>2.563543</td>\n      <td>2062.098296</td>\n      <td>8.737486e+06</td>\n      <td>6.706649e+06</td>\n      <td>0.963967</td>\n      <td>1.648238</td>\n    </tr>\n    <tr>\n      <th>std</th>\n      <td>5.145350e+06</td>\n      <td>0.0</td>\n      <td>5.374074e+06</td>\n      <td>NaN</td>\n      <td>11.054158</td>\n      <td>8502.726944</td>\n      <td>6.573781e+06</td>\n      <td>6.117352e+06</td>\n      <td>1.085275</td>\n      <td>2.396634</td>\n    </tr>\n    <tr>\n      <th>min</th>\n      <td>5.417676e+07</td>\n      <td>1.0</td>\n      <td>5.417763e+07</td>\n      <td>NaN</td>\n      <td>-6.000000</td>\n      <td>5.000000</td>\n      <td>9.100000e+01</td>\n      <td>-1.000000e+00</td>\n      <td>0.000000</td>\n      <td>0.000000</td>\n    </tr>\n    <tr>\n      <th>25%</th>\n      <td>6.805283e+07</td>\n      <td>1.0</td>\n      <td>6.637378e+07</td>\n      <td>NaN</td>\n      <td>0.000000</td>\n      <td>132.000000</td>\n      <td>2.628868e+06</td>\n      <td>1.611459e+06</td>\n      <td>0.000000</td>\n      <td>0.000000</td>\n    </tr>\n    <tr>\n      <th>50%</th>\n      <td>7.267653e+07</td>\n      <td>1.0</td>\n      <td>7.129904e+07</td>\n      <td>NaN</td>\n      <td>1.000000</td>\n      <td>438.000000</td>\n      <td>7.793017e+06</td>\n      <td>4.420967e+06</td>\n      <td>1.000000</td>\n      <td>1.000000</td>\n    </tr>\n    <tr>\n      <th>75%</th>\n      <td>7.565271e+07</td>\n      <td>1.0</td>\n      <td>7.495300e+07</td>\n      <td>NaN</td>\n      <td>2.000000</td>\n      <td>1299.000000</td>\n      <td>1.391782e+07</td>\n      <td>1.060695e+07</td>\n      <td>1.000000</td>\n      <td>2.000000</td>\n    </tr>\n    <tr>\n      <th>max</th>\n      <td>7.759369e+07</td>\n      <td>1.0</td>\n      <td>7.758567e+07</td>\n      <td>NaN</td>\n      <td>348.000000</td>\n      <td>321529.000000</td>\n      <td>2.302257e+07</td>\n      <td>2.296569e+07</td>\n      <td>35.000000</td>\n      <td>26.000000</td>\n    </tr>\n  </tbody>\n</table>\n</div>"
     },
     "execution_count": 30,
     "metadata": {},
     "output_type": "execute_result"
    }
   ],
   "source": [
    "df_union = pd.concat([posts_by_tags, posts_by_title, posts_by_body]).drop_duplicates().reset_index(drop=True)\n",
    "df_union.describe()"
   ]
  },
  {
   "cell_type": "code",
   "execution_count": 31,
   "metadata": {
    "ExecuteTime": {
     "end_time": "2024-02-19T17:34:00.051365300Z",
     "start_time": "2024-02-19T17:33:59.870368500Z"
    }
   },
   "outputs": [
    {
     "data": {
      "text/plain": "                 id  post_type_id_x  accepted_answer_id_x  parent_id_x  \\\ncount  2.903000e+03          2903.0          1.140000e+03          0.0   \nmean   7.050473e+07             1.0          6.938052e+07          NaN   \nstd    5.605103e+06             0.0          5.787363e+06          NaN   \nmin    5.417676e+07             1.0          5.417763e+07          NaN   \n25%    6.637150e+07             1.0          6.472536e+07          NaN   \n50%    7.186596e+07             1.0          7.041612e+07          NaN   \n75%    7.542059e+07             1.0          7.450144e+07          NaN   \nmax    7.759154e+07             1.0          7.758567e+07          NaN   \n\n           score_x   view_count_x  owner_user_id_x  last_editor_user_id_x  \\\ncount  2903.000000    2903.000000     2.882000e+03           1.272000e+03   \nmean      3.831898    2881.829142     8.590357e+06           6.978242e+06   \nstd      16.139532   11830.760186     6.426077e+06           6.081297e+06   \nmin      -3.000000       6.000000     9.100000e+01          -1.000000e+00   \n25%       0.000000     183.000000     2.628868e+06           2.087967e+06   \n50%       1.000000     570.000000     7.648607e+06           4.900238e+06   \n75%       3.000000    1650.000000     1.352424e+07           1.106587e+07   \nmax     348.000000  321529.000000     2.302257e+07           2.261377e+07   \n\n       answer_count_x  comment_count_x  ...  comment_count_y  post_type_id  \\\ncount     2903.000000      2903.000000  ...      2903.000000        2903.0   \nmean         1.053049         1.714433  ...         1.714433           1.0   \nstd          1.377158         2.484013  ...         2.484013           0.0   \nmin          0.000000         0.000000  ...         0.000000           1.0   \n25%          0.000000         0.000000  ...         0.000000           1.0   \n50%          1.000000         1.000000  ...         1.000000           1.0   \n75%          1.000000         3.000000  ...         3.000000           1.0   \nmax         35.000000        26.000000  ...        26.000000           1.0   \n\n       accepted_answer_id  parent_id        score     view_count  \\\ncount        1.140000e+03        0.0  2903.000000    2903.000000   \nmean         6.938052e+07        NaN     3.831898    2881.829142   \nstd          5.787363e+06        NaN    16.139532   11830.760186   \nmin          5.417763e+07        NaN    -3.000000       6.000000   \n25%          6.472536e+07        NaN     0.000000     183.000000   \n50%          7.041612e+07        NaN     1.000000     570.000000   \n75%          7.450144e+07        NaN     3.000000    1650.000000   \nmax          7.758567e+07        NaN   348.000000  321529.000000   \n\n       owner_user_id  last_editor_user_id  answer_count  comment_count  \ncount   2.882000e+03         1.272000e+03   2903.000000    2903.000000  \nmean    8.590357e+06         6.978242e+06      1.053049       1.714433  \nstd     6.426077e+06         6.081297e+06      1.377158       2.484013  \nmin     9.100000e+01        -1.000000e+00      0.000000       0.000000  \n25%     2.628868e+06         2.087967e+06      0.000000       0.000000  \n50%     7.648607e+06         4.900238e+06      1.000000       1.000000  \n75%     1.352424e+07         1.106587e+07      1.000000       3.000000  \nmax     2.302257e+07         2.261377e+07     35.000000      26.000000  \n\n[8 rows x 28 columns]",
      "text/html": "<div>\n<style scoped>\n    .dataframe tbody tr th:only-of-type {\n        vertical-align: middle;\n    }\n\n    .dataframe tbody tr th {\n        vertical-align: top;\n    }\n\n    .dataframe thead th {\n        text-align: right;\n    }\n</style>\n<table border=\"1\" class=\"dataframe\">\n  <thead>\n    <tr style=\"text-align: right;\">\n      <th></th>\n      <th>id</th>\n      <th>post_type_id_x</th>\n      <th>accepted_answer_id_x</th>\n      <th>parent_id_x</th>\n      <th>score_x</th>\n      <th>view_count_x</th>\n      <th>owner_user_id_x</th>\n      <th>last_editor_user_id_x</th>\n      <th>answer_count_x</th>\n      <th>comment_count_x</th>\n      <th>...</th>\n      <th>comment_count_y</th>\n      <th>post_type_id</th>\n      <th>accepted_answer_id</th>\n      <th>parent_id</th>\n      <th>score</th>\n      <th>view_count</th>\n      <th>owner_user_id</th>\n      <th>last_editor_user_id</th>\n      <th>answer_count</th>\n      <th>comment_count</th>\n    </tr>\n  </thead>\n  <tbody>\n    <tr>\n      <th>count</th>\n      <td>2.903000e+03</td>\n      <td>2903.0</td>\n      <td>1.140000e+03</td>\n      <td>0.0</td>\n      <td>2903.000000</td>\n      <td>2903.000000</td>\n      <td>2.882000e+03</td>\n      <td>1.272000e+03</td>\n      <td>2903.000000</td>\n      <td>2903.000000</td>\n      <td>...</td>\n      <td>2903.000000</td>\n      <td>2903.0</td>\n      <td>1.140000e+03</td>\n      <td>0.0</td>\n      <td>2903.000000</td>\n      <td>2903.000000</td>\n      <td>2.882000e+03</td>\n      <td>1.272000e+03</td>\n      <td>2903.000000</td>\n      <td>2903.000000</td>\n    </tr>\n    <tr>\n      <th>mean</th>\n      <td>7.050473e+07</td>\n      <td>1.0</td>\n      <td>6.938052e+07</td>\n      <td>NaN</td>\n      <td>3.831898</td>\n      <td>2881.829142</td>\n      <td>8.590357e+06</td>\n      <td>6.978242e+06</td>\n      <td>1.053049</td>\n      <td>1.714433</td>\n      <td>...</td>\n      <td>1.714433</td>\n      <td>1.0</td>\n      <td>6.938052e+07</td>\n      <td>NaN</td>\n      <td>3.831898</td>\n      <td>2881.829142</td>\n      <td>8.590357e+06</td>\n      <td>6.978242e+06</td>\n      <td>1.053049</td>\n      <td>1.714433</td>\n    </tr>\n    <tr>\n      <th>std</th>\n      <td>5.605103e+06</td>\n      <td>0.0</td>\n      <td>5.787363e+06</td>\n      <td>NaN</td>\n      <td>16.139532</td>\n      <td>11830.760186</td>\n      <td>6.426077e+06</td>\n      <td>6.081297e+06</td>\n      <td>1.377158</td>\n      <td>2.484013</td>\n      <td>...</td>\n      <td>2.484013</td>\n      <td>0.0</td>\n      <td>5.787363e+06</td>\n      <td>NaN</td>\n      <td>16.139532</td>\n      <td>11830.760186</td>\n      <td>6.426077e+06</td>\n      <td>6.081297e+06</td>\n      <td>1.377158</td>\n      <td>2.484013</td>\n    </tr>\n    <tr>\n      <th>min</th>\n      <td>5.417676e+07</td>\n      <td>1.0</td>\n      <td>5.417763e+07</td>\n      <td>NaN</td>\n      <td>-3.000000</td>\n      <td>6.000000</td>\n      <td>9.100000e+01</td>\n      <td>-1.000000e+00</td>\n      <td>0.000000</td>\n      <td>0.000000</td>\n      <td>...</td>\n      <td>0.000000</td>\n      <td>1.0</td>\n      <td>5.417763e+07</td>\n      <td>NaN</td>\n      <td>-3.000000</td>\n      <td>6.000000</td>\n      <td>9.100000e+01</td>\n      <td>-1.000000e+00</td>\n      <td>0.000000</td>\n      <td>0.000000</td>\n    </tr>\n    <tr>\n      <th>25%</th>\n      <td>6.637150e+07</td>\n      <td>1.0</td>\n      <td>6.472536e+07</td>\n      <td>NaN</td>\n      <td>0.000000</td>\n      <td>183.000000</td>\n      <td>2.628868e+06</td>\n      <td>2.087967e+06</td>\n      <td>0.000000</td>\n      <td>0.000000</td>\n      <td>...</td>\n      <td>0.000000</td>\n      <td>1.0</td>\n      <td>6.472536e+07</td>\n      <td>NaN</td>\n      <td>0.000000</td>\n      <td>183.000000</td>\n      <td>2.628868e+06</td>\n      <td>2.087967e+06</td>\n      <td>0.000000</td>\n      <td>0.000000</td>\n    </tr>\n    <tr>\n      <th>50%</th>\n      <td>7.186596e+07</td>\n      <td>1.0</td>\n      <td>7.041612e+07</td>\n      <td>NaN</td>\n      <td>1.000000</td>\n      <td>570.000000</td>\n      <td>7.648607e+06</td>\n      <td>4.900238e+06</td>\n      <td>1.000000</td>\n      <td>1.000000</td>\n      <td>...</td>\n      <td>1.000000</td>\n      <td>1.0</td>\n      <td>7.041612e+07</td>\n      <td>NaN</td>\n      <td>1.000000</td>\n      <td>570.000000</td>\n      <td>7.648607e+06</td>\n      <td>4.900238e+06</td>\n      <td>1.000000</td>\n      <td>1.000000</td>\n    </tr>\n    <tr>\n      <th>75%</th>\n      <td>7.542059e+07</td>\n      <td>1.0</td>\n      <td>7.450144e+07</td>\n      <td>NaN</td>\n      <td>3.000000</td>\n      <td>1650.000000</td>\n      <td>1.352424e+07</td>\n      <td>1.106587e+07</td>\n      <td>1.000000</td>\n      <td>3.000000</td>\n      <td>...</td>\n      <td>3.000000</td>\n      <td>1.0</td>\n      <td>7.450144e+07</td>\n      <td>NaN</td>\n      <td>3.000000</td>\n      <td>1650.000000</td>\n      <td>1.352424e+07</td>\n      <td>1.106587e+07</td>\n      <td>1.000000</td>\n      <td>3.000000</td>\n    </tr>\n    <tr>\n      <th>max</th>\n      <td>7.759154e+07</td>\n      <td>1.0</td>\n      <td>7.758567e+07</td>\n      <td>NaN</td>\n      <td>348.000000</td>\n      <td>321529.000000</td>\n      <td>2.302257e+07</td>\n      <td>2.261377e+07</td>\n      <td>35.000000</td>\n      <td>26.000000</td>\n      <td>...</td>\n      <td>26.000000</td>\n      <td>1.0</td>\n      <td>7.758567e+07</td>\n      <td>NaN</td>\n      <td>348.000000</td>\n      <td>321529.000000</td>\n      <td>2.302257e+07</td>\n      <td>2.261377e+07</td>\n      <td>35.000000</td>\n      <td>26.000000</td>\n    </tr>\n  </tbody>\n</table>\n<p>8 rows × 28 columns</p>\n</div>"
     },
     "execution_count": 31,
     "metadata": {},
     "output_type": "execute_result"
    }
   ],
   "source": [
    "df_merged_1 = pd.merge(posts_by_tags, posts_by_title, how='inner', on='id')\n",
    "df_intersection = pd.merge(df_merged_1, posts_by_body, how='inner', on='id')\n",
    "df_intersection.describe()"
   ]
  },
  {
   "cell_type": "markdown",
   "metadata": {},
   "source": [
    "### Number of questions filtered:\n",
    "- posts_by_title: 4538\n",
    "- posts_by_body: 6297\n",
    "- posts_by_tags: 9873\n",
    "- df_intersection: 2903\n",
    "- df_union: 11323"
   ]
  },
  {
   "cell_type": "code",
   "execution_count": 32,
   "metadata": {
    "ExecuteTime": {
     "end_time": "2024-02-19T17:34:00.051365300Z",
     "start_time": "2024-02-19T17:33:59.960370300Z"
    }
   },
   "outputs": [
    {
     "data": {
      "text/plain": "tags\nTrue     2894\nFalse       9\nName: count, dtype: int64"
     },
     "execution_count": 32,
     "metadata": {},
     "output_type": "execute_result"
    }
   ],
   "source": [
    "df_intersection['tags'].str.contains('<github-actions>').value_counts()"
   ]
  },
  {
   "cell_type": "markdown",
   "metadata": {},
   "source": [
    "- We have decided to use df_intersection because we consider that we are ensuring that the topic is for sure related to GitHub Actions because it is tagged and mentioned in the title and the body question. \n",
    "\n",
    "- We decided to select a random sample.\n",
    "\n",
    "- 340 posts or more are needed to have a confidence level of 95% that the real value is within ±5%."
   ]
  },
  {
   "cell_type": "code",
   "execution_count": 33,
   "metadata": {
    "ExecuteTime": {
     "end_time": "2024-02-19T17:34:00.075360900Z",
     "start_time": "2024-02-19T17:33:59.975360800Z"
    }
   },
   "outputs": [
    {
     "name": "stdout",
     "output_type": "stream",
     "text": [
      "Sample length:  400\n"
     ]
    },
    {
     "data": {
      "text/plain": "            id  post_type_id_x  accepted_answer_id_x  parent_id_x  \\\n582   65011370               1                   NaN          NaN   \n1811  73822327               1            73822678.0          NaN   \n2249  75607496               1                   NaN          NaN   \n1652  73018888               1                   NaN          NaN   \n667   65855054               1                   NaN          NaN   \n\n          creation_date_x  score_x  view_count_x  \\\n582   2020-11-25 19:17:14        0           637   \n1811  2022-09-23 02:09:56        1           132   \n2249  2023-03-01 18:12:01        1           107   \n1652  2022-07-18 07:48:42        2          1437   \n667   2021-01-23 02:10:44        3          5595   \n\n                                            post_body_x  owner_user_id_x  \\\n582   <p>I have this go.yml for github actions</p>&#...       12215821.0   \n1811  <p>I can locally create and use a docker conta...        7628816.0   \n2249  <p>We have a legacy Maven application which is...        3065868.0   \n1652  <p>GitHub Actions concurrency broke my process...         119790.0   \n667   <p>So I have a repo with multiple directories ...        3681199.0   \n\n      last_editor_user_id_x  ... owner_user_id last_editor_user_id  \\\n582                     NaN  ...    12215821.0                 NaN   \n1811              7628816.0  ...     7628816.0           7628816.0   \n2249              3065868.0  ...     3065868.0           3065868.0   \n1652                    NaN  ...      119790.0                 NaN   \n667                     NaN  ...     3681199.0                 NaN   \n\n           last_edit_date   last_activity_date  \\\n582                  None  2020-11-26 08:31:42   \n1811  2022-09-23 03:25:16  2022-09-23 03:25:37   \n2249  2023-03-03 08:57:38  2023-03-03 08:57:38   \n1652                 None  2022-10-03 23:31:28   \n667                  None  2021-01-23 08:11:48   \n\n                                             post_title  \\\n582         Github actions, problem with dep installing   \n1811       ory/dockertest not working on GitHub Actions   \n2249  GitHub Actions: Generate Deployment sources fo...   \n1652          How to disable GitHub Actions Concurrency   \n667   Can you have multiple working directories with...   \n\n                                                   tags answer_count  \\\n582                           <go><github-actions><dep>          1.0   \n1811          <docker><github-actions><clickhouse><ory>          1.0   \n2249  <maven><github-actions><websphere><websphere-8...          0.0   \n1652                           <github><github-actions>          1.0   \n667                                <go><github-actions>          1.0   \n\n     comment_count  content_license                                  link  \n582              0     CC BY-SA 4.0  https://stackoverflow.com/q/65011370  \n1811             0     CC BY-SA 4.0  https://stackoverflow.com/q/73822327  \n2249             9     CC BY-SA 4.0  https://stackoverflow.com/q/75607496  \n1652             2     CC BY-SA 4.0  https://stackoverflow.com/q/73018888  \n667              2     CC BY-SA 4.0  https://stackoverflow.com/q/65855054  \n\n[5 rows x 52 columns]",
      "text/html": "<div>\n<style scoped>\n    .dataframe tbody tr th:only-of-type {\n        vertical-align: middle;\n    }\n\n    .dataframe tbody tr th {\n        vertical-align: top;\n    }\n\n    .dataframe thead th {\n        text-align: right;\n    }\n</style>\n<table border=\"1\" class=\"dataframe\">\n  <thead>\n    <tr style=\"text-align: right;\">\n      <th></th>\n      <th>id</th>\n      <th>post_type_id_x</th>\n      <th>accepted_answer_id_x</th>\n      <th>parent_id_x</th>\n      <th>creation_date_x</th>\n      <th>score_x</th>\n      <th>view_count_x</th>\n      <th>post_body_x</th>\n      <th>owner_user_id_x</th>\n      <th>last_editor_user_id_x</th>\n      <th>...</th>\n      <th>owner_user_id</th>\n      <th>last_editor_user_id</th>\n      <th>last_edit_date</th>\n      <th>last_activity_date</th>\n      <th>post_title</th>\n      <th>tags</th>\n      <th>answer_count</th>\n      <th>comment_count</th>\n      <th>content_license</th>\n      <th>link</th>\n    </tr>\n  </thead>\n  <tbody>\n    <tr>\n      <th>582</th>\n      <td>65011370</td>\n      <td>1</td>\n      <td>NaN</td>\n      <td>NaN</td>\n      <td>2020-11-25 19:17:14</td>\n      <td>0</td>\n      <td>637</td>\n      <td>&lt;p&gt;I have this go.yml for github actions&lt;/p&gt;&amp;#...</td>\n      <td>12215821.0</td>\n      <td>NaN</td>\n      <td>...</td>\n      <td>12215821.0</td>\n      <td>NaN</td>\n      <td>None</td>\n      <td>2020-11-26 08:31:42</td>\n      <td>Github actions, problem with dep installing</td>\n      <td>&lt;go&gt;&lt;github-actions&gt;&lt;dep&gt;</td>\n      <td>1.0</td>\n      <td>0</td>\n      <td>CC BY-SA 4.0</td>\n      <td>https://stackoverflow.com/q/65011370</td>\n    </tr>\n    <tr>\n      <th>1811</th>\n      <td>73822327</td>\n      <td>1</td>\n      <td>73822678.0</td>\n      <td>NaN</td>\n      <td>2022-09-23 02:09:56</td>\n      <td>1</td>\n      <td>132</td>\n      <td>&lt;p&gt;I can locally create and use a docker conta...</td>\n      <td>7628816.0</td>\n      <td>7628816.0</td>\n      <td>...</td>\n      <td>7628816.0</td>\n      <td>7628816.0</td>\n      <td>2022-09-23 03:25:16</td>\n      <td>2022-09-23 03:25:37</td>\n      <td>ory/dockertest not working on GitHub Actions</td>\n      <td>&lt;docker&gt;&lt;github-actions&gt;&lt;clickhouse&gt;&lt;ory&gt;</td>\n      <td>1.0</td>\n      <td>0</td>\n      <td>CC BY-SA 4.0</td>\n      <td>https://stackoverflow.com/q/73822327</td>\n    </tr>\n    <tr>\n      <th>2249</th>\n      <td>75607496</td>\n      <td>1</td>\n      <td>NaN</td>\n      <td>NaN</td>\n      <td>2023-03-01 18:12:01</td>\n      <td>1</td>\n      <td>107</td>\n      <td>&lt;p&gt;We have a legacy Maven application which is...</td>\n      <td>3065868.0</td>\n      <td>3065868.0</td>\n      <td>...</td>\n      <td>3065868.0</td>\n      <td>3065868.0</td>\n      <td>2023-03-03 08:57:38</td>\n      <td>2023-03-03 08:57:38</td>\n      <td>GitHub Actions: Generate Deployment sources fo...</td>\n      <td>&lt;maven&gt;&lt;github-actions&gt;&lt;websphere&gt;&lt;websphere-8...</td>\n      <td>0.0</td>\n      <td>9</td>\n      <td>CC BY-SA 4.0</td>\n      <td>https://stackoverflow.com/q/75607496</td>\n    </tr>\n    <tr>\n      <th>1652</th>\n      <td>73018888</td>\n      <td>1</td>\n      <td>NaN</td>\n      <td>NaN</td>\n      <td>2022-07-18 07:48:42</td>\n      <td>2</td>\n      <td>1437</td>\n      <td>&lt;p&gt;GitHub Actions concurrency broke my process...</td>\n      <td>119790.0</td>\n      <td>NaN</td>\n      <td>...</td>\n      <td>119790.0</td>\n      <td>NaN</td>\n      <td>None</td>\n      <td>2022-10-03 23:31:28</td>\n      <td>How to disable GitHub Actions Concurrency</td>\n      <td>&lt;github&gt;&lt;github-actions&gt;</td>\n      <td>1.0</td>\n      <td>2</td>\n      <td>CC BY-SA 4.0</td>\n      <td>https://stackoverflow.com/q/73018888</td>\n    </tr>\n    <tr>\n      <th>667</th>\n      <td>65855054</td>\n      <td>1</td>\n      <td>NaN</td>\n      <td>NaN</td>\n      <td>2021-01-23 02:10:44</td>\n      <td>3</td>\n      <td>5595</td>\n      <td>&lt;p&gt;So I have a repo with multiple directories ...</td>\n      <td>3681199.0</td>\n      <td>NaN</td>\n      <td>...</td>\n      <td>3681199.0</td>\n      <td>NaN</td>\n      <td>None</td>\n      <td>2021-01-23 08:11:48</td>\n      <td>Can you have multiple working directories with...</td>\n      <td>&lt;go&gt;&lt;github-actions&gt;</td>\n      <td>1.0</td>\n      <td>2</td>\n      <td>CC BY-SA 4.0</td>\n      <td>https://stackoverflow.com/q/65855054</td>\n    </tr>\n  </tbody>\n</table>\n<p>5 rows × 52 columns</p>\n</div>"
     },
     "execution_count": 33,
     "metadata": {},
     "output_type": "execute_result"
    }
   ],
   "source": [
    "# Creating the random sample. We are accepting the first 340 posts that we consider are related to the topc.\n",
    "sample_size = 400\n",
    "seed = 0\n",
    "df_sample = df_intersection.sample(n=sample_size, random_state=seed)\n",
    "print(\"Sample length: \", df_sample.shape[0])\n",
    "df_sample.head()"
   ]
  },
  {
   "cell_type": "code",
   "execution_count": 34,
   "metadata": {
    "ExecuteTime": {
     "end_time": "2024-02-19T17:34:00.274363700Z",
     "start_time": "2024-02-19T17:34:00.008368200Z"
    }
   },
   "outputs": [
    {
     "ename": "ModuleNotFoundError",
     "evalue": "No module named 'openpyxl'",
     "output_type": "error",
     "traceback": [
      "\u001B[1;31m---------------------------------------------------------------------------\u001B[0m",
      "\u001B[1;31mModuleNotFoundError\u001B[0m                       Traceback (most recent call last)",
      "Cell \u001B[1;32mIn[34], line 1\u001B[0m\n\u001B[1;32m----> 1\u001B[0m \u001B[43mdf_sample\u001B[49m\u001B[43m[\u001B[49m\u001B[43m[\u001B[49m\u001B[38;5;124;43m'\u001B[39;49m\u001B[38;5;124;43mid\u001B[39;49m\u001B[38;5;124;43m'\u001B[39;49m\u001B[43m,\u001B[49m\u001B[43m \u001B[49m\u001B[38;5;124;43m'\u001B[39;49m\u001B[38;5;124;43mlink\u001B[39;49m\u001B[38;5;124;43m'\u001B[39;49m\u001B[43m]\u001B[49m\u001B[43m]\u001B[49m\u001B[38;5;241;43m.\u001B[39;49m\u001B[43massign\u001B[49m\u001B[43m(\u001B[49m\u001B[43mevaluator1\u001B[49m\u001B[38;5;241;43m=\u001B[39;49m\u001B[43mnp\u001B[49m\u001B[38;5;241;43m.\u001B[39;49m\u001B[43mnan\u001B[49m\u001B[43m)\u001B[49m\u001B[38;5;241;43m.\u001B[39;49m\u001B[43mto_excel\u001B[49m\u001B[43m(\u001B[49m\u001B[38;5;124;43m'\u001B[39;49m\u001B[38;5;124;43mdata/sample_eval1.xlsx\u001B[39;49m\u001B[38;5;124;43m'\u001B[39;49m\u001B[43m)\u001B[49m\n\u001B[0;32m      2\u001B[0m df_sample[[\u001B[38;5;124m'\u001B[39m\u001B[38;5;124mid\u001B[39m\u001B[38;5;124m'\u001B[39m, \u001B[38;5;124m'\u001B[39m\u001B[38;5;124mlink\u001B[39m\u001B[38;5;124m'\u001B[39m]]\u001B[38;5;241m.\u001B[39massign(evaluator2\u001B[38;5;241m=\u001B[39mnp\u001B[38;5;241m.\u001B[39mnan)\u001B[38;5;241m.\u001B[39mto_excel(\u001B[38;5;124m'\u001B[39m\u001B[38;5;124mdata/sample_eval2.xlsx\u001B[39m\u001B[38;5;124m'\u001B[39m)\n",
      "File \u001B[1;32mG:\\Mi unidad\\Master Computer Science\\Thesis\\GHA_taxonomy\\venv\\lib\\site-packages\\pandas\\util\\_decorators.py:333\u001B[0m, in \u001B[0;36mdeprecate_nonkeyword_arguments.<locals>.decorate.<locals>.wrapper\u001B[1;34m(*args, **kwargs)\u001B[0m\n\u001B[0;32m    327\u001B[0m \u001B[38;5;28;01mif\u001B[39;00m \u001B[38;5;28mlen\u001B[39m(args) \u001B[38;5;241m>\u001B[39m num_allow_args:\n\u001B[0;32m    328\u001B[0m     warnings\u001B[38;5;241m.\u001B[39mwarn(\n\u001B[0;32m    329\u001B[0m         msg\u001B[38;5;241m.\u001B[39mformat(arguments\u001B[38;5;241m=\u001B[39m_format_argument_list(allow_args)),\n\u001B[0;32m    330\u001B[0m         \u001B[38;5;167;01mFutureWarning\u001B[39;00m,\n\u001B[0;32m    331\u001B[0m         stacklevel\u001B[38;5;241m=\u001B[39mfind_stack_level(),\n\u001B[0;32m    332\u001B[0m     )\n\u001B[1;32m--> 333\u001B[0m \u001B[38;5;28;01mreturn\u001B[39;00m func(\u001B[38;5;241m*\u001B[39margs, \u001B[38;5;241m*\u001B[39m\u001B[38;5;241m*\u001B[39mkwargs)\n",
      "File \u001B[1;32mG:\\Mi unidad\\Master Computer Science\\Thesis\\GHA_taxonomy\\venv\\lib\\site-packages\\pandas\\core\\generic.py:2414\u001B[0m, in \u001B[0;36mNDFrame.to_excel\u001B[1;34m(self, excel_writer, sheet_name, na_rep, float_format, columns, header, index, index_label, startrow, startcol, engine, merge_cells, inf_rep, freeze_panes, storage_options, engine_kwargs)\u001B[0m\n\u001B[0;32m   2401\u001B[0m \u001B[38;5;28;01mfrom\u001B[39;00m \u001B[38;5;21;01mpandas\u001B[39;00m\u001B[38;5;21;01m.\u001B[39;00m\u001B[38;5;21;01mio\u001B[39;00m\u001B[38;5;21;01m.\u001B[39;00m\u001B[38;5;21;01mformats\u001B[39;00m\u001B[38;5;21;01m.\u001B[39;00m\u001B[38;5;21;01mexcel\u001B[39;00m \u001B[38;5;28;01mimport\u001B[39;00m ExcelFormatter\n\u001B[0;32m   2403\u001B[0m formatter \u001B[38;5;241m=\u001B[39m ExcelFormatter(\n\u001B[0;32m   2404\u001B[0m     df,\n\u001B[0;32m   2405\u001B[0m     na_rep\u001B[38;5;241m=\u001B[39mna_rep,\n\u001B[1;32m   (...)\u001B[0m\n\u001B[0;32m   2412\u001B[0m     inf_rep\u001B[38;5;241m=\u001B[39minf_rep,\n\u001B[0;32m   2413\u001B[0m )\n\u001B[1;32m-> 2414\u001B[0m \u001B[43mformatter\u001B[49m\u001B[38;5;241;43m.\u001B[39;49m\u001B[43mwrite\u001B[49m\u001B[43m(\u001B[49m\n\u001B[0;32m   2415\u001B[0m \u001B[43m    \u001B[49m\u001B[43mexcel_writer\u001B[49m\u001B[43m,\u001B[49m\n\u001B[0;32m   2416\u001B[0m \u001B[43m    \u001B[49m\u001B[43msheet_name\u001B[49m\u001B[38;5;241;43m=\u001B[39;49m\u001B[43msheet_name\u001B[49m\u001B[43m,\u001B[49m\n\u001B[0;32m   2417\u001B[0m \u001B[43m    \u001B[49m\u001B[43mstartrow\u001B[49m\u001B[38;5;241;43m=\u001B[39;49m\u001B[43mstartrow\u001B[49m\u001B[43m,\u001B[49m\n\u001B[0;32m   2418\u001B[0m \u001B[43m    \u001B[49m\u001B[43mstartcol\u001B[49m\u001B[38;5;241;43m=\u001B[39;49m\u001B[43mstartcol\u001B[49m\u001B[43m,\u001B[49m\n\u001B[0;32m   2419\u001B[0m \u001B[43m    \u001B[49m\u001B[43mfreeze_panes\u001B[49m\u001B[38;5;241;43m=\u001B[39;49m\u001B[43mfreeze_panes\u001B[49m\u001B[43m,\u001B[49m\n\u001B[0;32m   2420\u001B[0m \u001B[43m    \u001B[49m\u001B[43mengine\u001B[49m\u001B[38;5;241;43m=\u001B[39;49m\u001B[43mengine\u001B[49m\u001B[43m,\u001B[49m\n\u001B[0;32m   2421\u001B[0m \u001B[43m    \u001B[49m\u001B[43mstorage_options\u001B[49m\u001B[38;5;241;43m=\u001B[39;49m\u001B[43mstorage_options\u001B[49m\u001B[43m,\u001B[49m\n\u001B[0;32m   2422\u001B[0m \u001B[43m    \u001B[49m\u001B[43mengine_kwargs\u001B[49m\u001B[38;5;241;43m=\u001B[39;49m\u001B[43mengine_kwargs\u001B[49m\u001B[43m,\u001B[49m\n\u001B[0;32m   2423\u001B[0m \u001B[43m\u001B[49m\u001B[43m)\u001B[49m\n",
      "File \u001B[1;32mG:\\Mi unidad\\Master Computer Science\\Thesis\\GHA_taxonomy\\venv\\lib\\site-packages\\pandas\\io\\formats\\excel.py:943\u001B[0m, in \u001B[0;36mExcelFormatter.write\u001B[1;34m(self, writer, sheet_name, startrow, startcol, freeze_panes, engine, storage_options, engine_kwargs)\u001B[0m\n\u001B[0;32m    941\u001B[0m     need_save \u001B[38;5;241m=\u001B[39m \u001B[38;5;28;01mFalse\u001B[39;00m\n\u001B[0;32m    942\u001B[0m \u001B[38;5;28;01melse\u001B[39;00m:\n\u001B[1;32m--> 943\u001B[0m     writer \u001B[38;5;241m=\u001B[39m \u001B[43mExcelWriter\u001B[49m\u001B[43m(\u001B[49m\n\u001B[0;32m    944\u001B[0m \u001B[43m        \u001B[49m\u001B[43mwriter\u001B[49m\u001B[43m,\u001B[49m\n\u001B[0;32m    945\u001B[0m \u001B[43m        \u001B[49m\u001B[43mengine\u001B[49m\u001B[38;5;241;43m=\u001B[39;49m\u001B[43mengine\u001B[49m\u001B[43m,\u001B[49m\n\u001B[0;32m    946\u001B[0m \u001B[43m        \u001B[49m\u001B[43mstorage_options\u001B[49m\u001B[38;5;241;43m=\u001B[39;49m\u001B[43mstorage_options\u001B[49m\u001B[43m,\u001B[49m\n\u001B[0;32m    947\u001B[0m \u001B[43m        \u001B[49m\u001B[43mengine_kwargs\u001B[49m\u001B[38;5;241;43m=\u001B[39;49m\u001B[43mengine_kwargs\u001B[49m\u001B[43m,\u001B[49m\n\u001B[0;32m    948\u001B[0m \u001B[43m    \u001B[49m\u001B[43m)\u001B[49m\n\u001B[0;32m    949\u001B[0m     need_save \u001B[38;5;241m=\u001B[39m \u001B[38;5;28;01mTrue\u001B[39;00m\n\u001B[0;32m    951\u001B[0m \u001B[38;5;28;01mtry\u001B[39;00m:\n",
      "File \u001B[1;32mG:\\Mi unidad\\Master Computer Science\\Thesis\\GHA_taxonomy\\venv\\lib\\site-packages\\pandas\\io\\excel\\_openpyxl.py:57\u001B[0m, in \u001B[0;36mOpenpyxlWriter.__init__\u001B[1;34m(self, path, engine, date_format, datetime_format, mode, storage_options, if_sheet_exists, engine_kwargs, **kwargs)\u001B[0m\n\u001B[0;32m     44\u001B[0m \u001B[38;5;28;01mdef\u001B[39;00m \u001B[38;5;21m__init__\u001B[39m(\n\u001B[0;32m     45\u001B[0m     \u001B[38;5;28mself\u001B[39m,\n\u001B[0;32m     46\u001B[0m     path: FilePath \u001B[38;5;241m|\u001B[39m WriteExcelBuffer \u001B[38;5;241m|\u001B[39m ExcelWriter,\n\u001B[1;32m   (...)\u001B[0m\n\u001B[0;32m     55\u001B[0m ) \u001B[38;5;241m-\u001B[39m\u001B[38;5;241m>\u001B[39m \u001B[38;5;28;01mNone\u001B[39;00m:\n\u001B[0;32m     56\u001B[0m     \u001B[38;5;66;03m# Use the openpyxl module as the Excel writer.\u001B[39;00m\n\u001B[1;32m---> 57\u001B[0m     \u001B[38;5;28;01mfrom\u001B[39;00m \u001B[38;5;21;01mopenpyxl\u001B[39;00m\u001B[38;5;21;01m.\u001B[39;00m\u001B[38;5;21;01mworkbook\u001B[39;00m \u001B[38;5;28;01mimport\u001B[39;00m Workbook\n\u001B[0;32m     59\u001B[0m     engine_kwargs \u001B[38;5;241m=\u001B[39m combine_kwargs(engine_kwargs, kwargs)\n\u001B[0;32m     61\u001B[0m     \u001B[38;5;28msuper\u001B[39m()\u001B[38;5;241m.\u001B[39m\u001B[38;5;21m__init__\u001B[39m(\n\u001B[0;32m     62\u001B[0m         path,\n\u001B[0;32m     63\u001B[0m         mode\u001B[38;5;241m=\u001B[39mmode,\n\u001B[1;32m   (...)\u001B[0m\n\u001B[0;32m     66\u001B[0m         engine_kwargs\u001B[38;5;241m=\u001B[39mengine_kwargs,\n\u001B[0;32m     67\u001B[0m     )\n",
      "\u001B[1;31mModuleNotFoundError\u001B[0m: No module named 'openpyxl'"
     ]
    }
   ],
   "source": [
    "df_sample[['id', 'link']].assign(evaluator1=np.nan).to_excel('data/sample_eval1.xlsx')\n",
    "df_sample[['id', 'link']].assign(evaluator2=np.nan).to_excel('data/sample_eval2.xlsx')"
   ]
  },
  {
   "cell_type": "code",
   "outputs": [],
   "source": [],
   "metadata": {
    "collapsed": false,
    "ExecuteTime": {
     "start_time": "2024-02-19T17:34:00.097367700Z"
    }
   }
  }
 ],
 "metadata": {
  "kernelspec": {
   "display_name": "Python 3",
   "language": "python",
   "name": "python3"
  },
  "language_info": {
   "codemirror_mode": {
    "name": "ipython",
    "version": 3
   },
   "file_extension": ".py",
   "mimetype": "text/x-python",
   "name": "python",
   "nbconvert_exporter": "python",
   "pygments_lexer": "ipython3",
   "version": "3.9.13"
  }
 },
 "nbformat": 4,
 "nbformat_minor": 2
}
