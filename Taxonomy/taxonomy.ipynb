{
 "cells": [
  {
   "cell_type": "code",
   "execution_count": 1,
   "metadata": {},
   "outputs": [],
   "source": [
    "import pandas as pd"
   ]
  },
  {
   "cell_type": "code",
   "execution_count": 9,
   "metadata": {},
   "outputs": [],
   "source": [
    "posts_by_title = pd.read_json('data/posts_by_title.json')\n",
    "posts_by_body = pd.read_json('data/posts_by_body.json')\n",
    "posts_by_title.rename(columns={\"CONCAT('https://stackoverflow.com/q/', p.Id)\": 'Link'}, inplace=True)\n",
    "posts_by_body.rename(columns={\"CONCAT('https://stackoverflow.com/q/', p.Id)\": 'Link'}, inplace=True)"
   ]
  },
  {
   "cell_type": "code",
   "execution_count": 12,
   "metadata": {},
   "outputs": [
    {
     "name": "stdout",
     "output_type": "stream",
     "text": [
      "<class 'pandas.core.frame.DataFrame'>\n",
      "RangeIndex: 10334 entries, 0 to 10333\n",
      "Data columns (total 18 columns):\n",
      " #   Column               Non-Null Count  Dtype  \n",
      "---  ------               --------------  -----  \n",
      " 0   id                   10334 non-null  int64  \n",
      " 1   post_type_id         10334 non-null  int64  \n",
      " 2   accepted_answer_id   2327 non-null   float64\n",
      " 3   parent_id            0 non-null      float64\n",
      " 4   creation_date        10334 non-null  object \n",
      " 5   score                10334 non-null  int64  \n",
      " 6   view_count           6297 non-null   float64\n",
      " 7   post_body            10334 non-null  object \n",
      " 8   owner_user_id        10284 non-null  float64\n",
      " 9   last_editor_user_id  4202 non-null   float64\n",
      " 10  last_edit_date       4226 non-null   object \n",
      " 11  last_activity_date   10334 non-null  object \n",
      " 12  post_title           6297 non-null   object \n",
      " 13  tags                 6297 non-null   object \n",
      " 14  answer_count         6297 non-null   float64\n",
      " 15  comment_count        10334 non-null  int64  \n",
      " 16  content_license      10334 non-null  object \n",
      " 17  Link                 10334 non-null  object \n",
      "dtypes: float64(6), int64(4), object(8)\n",
      "memory usage: 1.4+ MB\n"
     ]
    }
   ],
   "source": [
    "#posts_by_title.info()\n",
    "posts_by_body.info()"
   ]
  },
  {
   "cell_type": "code",
   "execution_count": null,
   "metadata": {},
   "outputs": [],
   "source": []
  }
 ],
 "metadata": {
  "kernelspec": {
   "display_name": "Python 3",
   "language": "python",
   "name": "python3"
  },
  "language_info": {
   "codemirror_mode": {
    "name": "ipython",
    "version": 3
   },
   "file_extension": ".py",
   "mimetype": "text/x-python",
   "name": "python",
   "nbconvert_exporter": "python",
   "pygments_lexer": "ipython3",
   "version": "3.9.13"
  }
 },
 "nbformat": 4,
 "nbformat_minor": 2
}
