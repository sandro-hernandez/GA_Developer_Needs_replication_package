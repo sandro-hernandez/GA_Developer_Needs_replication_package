{
 "cells": [
  {
   "cell_type": "markdown",
   "metadata": {},
   "source": [
    "# Taxonomy Evaluation"
   ]
  },
  {
   "cell_type": "markdown",
   "metadata": {},
   "source": [
    "## Step 3: Evaluating Purpose"
   ]
  },
  {
   "cell_type": "markdown",
   "metadata": {},
   "source": [
    "#### 3.1.- Relevance"
   ]
  },
  {
   "cell_type": "code",
   "execution_count": 12,
   "metadata": {},
   "outputs": [
    {
     "name": "stdout",
     "output_type": "stream",
     "text": [
      "fraction of relevant classes considering all the posts: 1.0\n",
      "average fraction of relevant classes considering post by posts: 0.13109243697478992\n"
     ]
    }
   ],
   "source": [
    "# Group by 'post_id' and calculate the fraction of RI categories used for each post\n",
    "fraction_of_ri_per_post = sentences_df.groupby('post_id')[RI_list].apply(lambda x: (x.sum(axis=0) > 0).sum() / len(RI_list))\n",
    "\n",
    "print(\"fraction of relevant classes considering all the posts: 1.0\")\n",
    "print(\"average fraction of relevant classes considering post by posts:\", fraction_of_ri_per_post.mean())\n"
   ]
  }
 ],
 "metadata": {
  "kernelspec": {
   "display_name": "Python 3",
   "language": "python",
   "name": "python3"
  },
  "language_info": {
   "codemirror_mode": {
    "name": "ipython",
    "version": 3
   },
   "file_extension": ".py",
   "mimetype": "text/x-python",
   "name": "python",
   "nbconvert_exporter": "python",
   "pygments_lexer": "ipython3",
   "version": "3.9.13"
  }
 },
 "nbformat": 4,
 "nbformat_minor": 2
}
